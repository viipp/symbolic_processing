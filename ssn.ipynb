{
 "cells": [
  {
   "cell_type": "code",
   "execution_count": 1,
   "metadata": {
    "collapsed": true
   },
   "outputs": [],
   "source": [
    "import numpy as np\n",
    "from scipy.misc import factorial\n",
    "import pylab as pl"
   ]
  },
  {
   "cell_type": "markdown",
   "metadata": {},
   "source": [
    "### Define input space"
   ]
  },
  {
   "cell_type": "code",
   "execution_count": 2,
   "metadata": {
    "collapsed": false
   },
   "outputs": [
    {
     "name": "stdout",
     "output_type": "stream",
     "text": [
      "{'values': array([0, 0, 0]), 'names': ['a', 'b', 'c']}\n",
      "['a', 'b', 'c']\n",
      "{'a': 0, 'c': 2, 'b': 1}\n"
     ]
    }
   ],
   "source": [
    "# maps inputs to an index, such tha each input has a unique index\n",
    "class input_space:\n",
    "    \n",
    "    def __init__(self):\n",
    "        self.w2i = {}\n",
    "        self.i2w = []\n",
    "    \n",
    "    def append(self,f):\n",
    "        if f in self.w2i:\n",
    "            ind = self.w2i[f]\n",
    "        else:\n",
    "            ind = len(self.i2w)\n",
    "            self.w2i[f] = ind\n",
    "            self.i2w.append(f)\n",
    "        \n",
    "i_s = input_space()\n",
    "input = {'names': ['a', 'b', 'c']}\n",
    "for i in range(len(input['names'])):\n",
    "    i_s.append(input['names'][i])\n",
    "    \n",
    "input['values'] = np.zeros(len(input['names']), dtype=int)\n",
    "print input\n",
    "\n",
    "print i_s.i2w\n",
    "print i_s.w2i"
   ]
  },
  {
   "cell_type": "markdown",
   "metadata": {
    "collapsed": true
   },
   "source": [
    "### Create neuron class"
   ]
  },
  {
   "cell_type": "code",
   "execution_count": 3,
   "metadata": {
    "collapsed": true
   },
   "outputs": [],
   "source": [
    "class Neuron:\n",
    "    \n",
    "    def __init__(self, name, value):\n",
    "        self.name = name\n",
    "        self.value = value\n",
    "        \n",
    "    def leaky_integrator(self, s):\n",
    "        self.s = s\n",
    "        \n",
    "    def gate(self, n1, n2):\n",
    "        self.n1 = n1\n",
    "        \n",
    "    #def weighted_sum(self):\n",
    "        "
   ]
  },
  {
   "cell_type": "markdown",
   "metadata": {},
   "source": [
    "### Create program class"
   ]
  },
  {
   "cell_type": "code",
   "execution_count": 4,
   "metadata": {
    "collapsed": false
   },
   "outputs": [],
   "source": [
    "class Program:\n",
    "    \n",
    "    def __init__(self, sequence=[]):\n",
    "        self.sequence = sequence\n",
    "        \n",
    "    #def run(self):\n",
    "    #    self.M = "
   ]
  },
  {
   "cell_type": "code",
   "execution_count": 13,
   "metadata": {
    "collapsed": false
   },
   "outputs": [],
   "source": [
    "scan = Program(sequence={'names': ['current_item', 'gate'], 'order': [0, 1]})"
   ]
  },
  {
   "cell_type": "code",
   "execution_count": 14,
   "metadata": {
    "collapsed": true
   },
   "outputs": [],
   "source": [
    "#scan_wm = Program(sequence={'names': ['load', 'internal_time', 'c']})"
   ]
  },
  {
   "cell_type": "code",
   "execution_count": 15,
   "metadata": {
    "collapsed": false
   },
   "outputs": [
    {
     "name": "stdout",
     "output_type": "stream",
     "text": [
      "{'names': ['current_item', 'gate'], 'order': [0, 1]}\n"
     ]
    }
   ],
   "source": [
    "print scan.sequence"
   ]
  },
  {
   "cell_type": "code",
   "execution_count": null,
   "metadata": {
    "collapsed": true
   },
   "outputs": [],
   "source": [
    "scan.run(current_item)"
   ]
  },
  {
   "cell_type": "code",
   "execution_count": 59,
   "metadata": {
    "collapsed": false
   },
   "outputs": [],
   "source": [
    "class dms(Program):\n",
    "\n",
    "        def connect(self):\n",
    "            self.M = np.zeros((len(self.sequence['names'])+1, max(self.sequence['order'])+1))\n",
    "            for i in range(len(self.sequence['names'])):\n",
    "                self.M[i_s.w2i[self.sequence['names'][i]], self.sequence['order'][i]] = 1\n",
    "            \n",
    "        #def run(self):\n",
    "            \n",
    "\n",
    "sequence={'names':['attend_to_change', \n",
    "              'store', \n",
    "              'attend_to_change', \n",
    "              'wait', \n",
    "              'store', \n",
    "              'diff', \n",
    "              'move_arm_up', \n",
    "              'move_arm_dow',\n",
    "              'lick'],\n",
    "              'order': [0, 1, 2, 3, 4, 5, 6, 7, 7, 8]}\n",
    "\n",
    "for i in range(len(sequence['names'])):\n",
    "    i_s.append(sequence['names'][i])\n",
    "\n",
    "dms_object = dms(sequence=sequence)"
   ]
  },
  {
   "cell_type": "code",
   "execution_count": 65,
   "metadata": {
    "collapsed": false
   },
   "outputs": [
    {
     "name": "stdout",
     "output_type": "stream",
     "text": [
      "[0, 1, 2, 3, 4, 5, 6, 7, 8]\n",
      "['a', 'b', 'c', 'attend_to_change', 'store', 'wait', 'diff', 'move_arm_up', 'move_arm_dow', 'lick']\n",
      "{'a': 0, 'c': 2, 'b': 1, 'move_arm_dow': 8, 'attend_to_change': 3, 'diff': 6, 'move_arm_up': 7, 'lick': 9, 'store': 4, 'wait': 5}\n",
      "{'names': ['attend_to_change', 'store', 'attend_to_change', 'wait', 'store', 'diff', 'move_arm_up', 'move_arm_dow', 'lick'], 'order': [0, 1, 2, 3, 4, 5, 6, 7, 7, 8]}\n",
      "['attend_to_change', 'store', 'attend_to_change', 'wait', 'store', 'diff', 'move_arm_up', 'move_arm_dow', 'lick']\n",
      "store\n",
      "[[ 0.  0.  0.  0.  0.  0.  0.  0.  0.]\n",
      " [ 0.  0.  0.  0.  0.  0.  0.  0.  0.]\n",
      " [ 0.  0.  0.  0.  0.  0.  0.  0.  0.]\n",
      " [ 1.  0.  1.  0.  0.  0.  0.  0.  0.]\n",
      " [ 0.  1.  0.  0.  1.  0.  0.  0.  0.]\n",
      " [ 0.  0.  0.  1.  0.  0.  0.  0.  0.]\n",
      " [ 0.  0.  0.  0.  0.  1.  0.  0.  0.]\n",
      " [ 0.  0.  0.  0.  0.  0.  1.  0.  0.]\n",
      " [ 0.  0.  0.  0.  0.  0.  0.  1.  0.]\n",
      " [ 0.  0.  0.  0.  0.  0.  0.  1.  0.]]\n"
     ]
    },
    {
     "data": {
      "image/png": "[encoded data removed]",
      "text/plain": [
       "<matplotlib.figure.Figure at 0x11b255250>"
      ]
     },
     "metadata": {},
     "output_type": "display_data"
    }
   ],
   "source": [
    "print range(len(sequence['names']))\n",
    "\n",
    "print i_s.i2w\n",
    "print i_s.w2i\n",
    "\n",
    "i_s.w2i[sequence['names'][8]]\n",
    "sequence['order'][8]\n",
    "\n",
    "\n",
    "print dms_object.sequence\n",
    "print dms_object.sequence['names']\n",
    "print dms_object.sequence['names'][1]\n",
    "range(len(dms_object.sequence['names']))\n",
    "\n",
    "dms_object.connect()\n",
    "print dms_object.M\n",
    "\n",
    "%matplotlib inline\n",
    "pl.imshow(dms_object.M, interpolation='none')\n",
    "\n",
    "pl.gca().set_yticks(np.arange(len(i_s.w2i.keys())))\n",
    "_ = pl.gca().set_yticklabels(i_s.w2i.keys())\n",
    "_ = pl.gca().set_title('test')"
   ]
  },
  {
   "cell_type": "code",
   "execution_count": 64,
   "metadata": {
    "collapsed": false
   },
   "outputs": [
    {
     "name": "stdout",
     "output_type": "stream",
     "text": [
      "['a', 'c', 'b', 'move_arm_dow', 'attend_to_change', 'diff', 'move_arm_up', 'lick', 'store', 'wait']\n"
     ]
    }
   ],
   "source": [
    "print i_s.w2i.keys()"
   ]
  },
  {
   "cell_type": "code",
   "execution_count": null,
   "metadata": {
    "collapsed": true
   },
   "outputs": [],
   "source": []
  },
  {
   "cell_type": "markdown",
   "metadata": {},
   "source": [
    "### Create supported dimension"
   ]
  },
  {
   "cell_type": "code",
   "execution_count": 5,
   "metadata": {
    "collapsed": false
   },
   "outputs": [],
   "source": [
    "class Support:\n",
    "    \n",
    "    def __init__(self, name, tstr_min=1, tstr_max=10, buff_len=30, k=8, dtime = 0.001, len_time=10):\n",
    "        self.name = name\n",
    "        self.tstr_min = tstr_min\n",
    "        self.tstr_max = tstr_max\n",
    "        self.buff_len = buff_len\n",
    "        self.k = k\n",
    "        self.dtime = dtime\n",
    "        self.len_time = len_time\n",
    "        \n",
    "        self.N = self.buff_len+2*self.k\n",
    "        self.Nt = int(self.len_time/self.dtime)\n",
    "\n",
    "        #Create power-law growing Taustarlist and corresponding s\n",
    "        alpha = (self.tstr_max/self.tstr_min)**(1./buff_len)-1\n",
    "        pow_vec = np.arange(-self.k,buff_len + self.k) #-1\n",
    "        self._Taustarlist = self.tstr_min * (1 + alpha)**pow_vec\n",
    "\n",
    "        s = self.k/self._Taustarlist\n",
    "        \n",
    "        #Create DerivMatrix\n",
    "        self._DerivMatrix = np.zeros((self.N,self.N))\n",
    "        for i in range(1,self.N-1):\n",
    "            self._DerivMatrix[i, i-1] = -(s[i+1]-s[i])/(s[i]-s[i-1])/(s[i+1] - s[i-1])\n",
    "            self._DerivMatrix[i, i] = ((s[i+1]-s[i])/(s[i]- s[i-1])-(s[i]-s[i-1])/(s[i+1]-s[i]))/(s[i+1] - s[i-1])\n",
    "            self._DerivMatrix[i, i+1] = (s[i]-s[i-1])/(s[i+1]-s[i])/(s[i+1] - s[i-1])\n",
    "\n",
    "        self.t = np.zeros((self.N,self.Nt))\n",
    "        self.T = np.zeros((self.N,self.Nt))\n",
    "        self._s = s\n",
    "        \n",
    "    def update(self, time_index, f):\n",
    "        time_index = time_index + 1\n",
    "        self.t[:,time_index] = self.t[:,time_index-1]+((-self._s.T*self.t[:,time_index-1]+f[time_index])*self.dtime)\n",
    "        t_diff = np.dot(np.linalg.matrix_power(self._DerivMatrix, self.k), self.t[:,time_index])\n",
    "        L1 = (-1)**self.k*self._s**(self.k+1) # this can be taken out\n",
    "        L2 = t_diff/factorial(self.k)\n",
    "        self.T[:,time_index] = L1.T*L2.T\n",
    "                "
   ]
  },
  {
   "cell_type": "markdown",
   "metadata": {},
   "source": [
    "Test that scale-invaraint memory (big T) works properly"
   ]
  },
  {
   "cell_type": "code",
   "execution_count": 6,
   "metadata": {
    "collapsed": false
   },
   "outputs": [
    {
     "data": {
      "image/png": "[encoded data removed]",
      "text/plain": [
       "<matplotlib.figure.Figure at 0x1142f9910>"
      ]
     },
     "metadata": {},
     "output_type": "display_data"
    }
   ],
   "source": [
    "tmp = Support(name='neuron1')\n",
    "f = np.concatenate((np.zeros(2850), np.ones(100), np.zeros(4500), np.ones(100), np.zeros(2450)))\n",
    "for time in range(9999):\n",
    "    tmp.update(time,f)\n",
    "%matplotlib inline\n",
    "pl.subplot(311)\n",
    "_ = pl.plot(f.T)\n",
    "pl.subplot(312)\n",
    "_ = pl.plot(tmp.t[tmp.k:-tmp.k,:].T)\n",
    "pl.subplot(313)\n",
    "_ = pl.plot(tmp.T[tmp.k:-tmp.k,:].T)"
   ]
  },
  {
   "cell_type": "code",
   "execution_count": 7,
   "metadata": {
    "collapsed": false
   },
   "outputs": [],
   "source": [
    "scan_wm = Program()"
   ]
  }
 ],
 "metadata": {
  "kernelspec": {
   "display_name": "Python 2",
   "language": "python",
   "name": "python2"
  },
  "language_info": {
   "codemirror_mode": {
    "name": "ipython",
    "version": 2
   },
   "file_extension": ".py",
   "mimetype": "text/x-python",
   "name": "python",
   "nbconvert_exporter": "python",
   "pygments_lexer": "ipython2",
   "version": "2.7.13"
  }
 },
 "nbformat": 4,
 "nbformat_minor": 0
}
